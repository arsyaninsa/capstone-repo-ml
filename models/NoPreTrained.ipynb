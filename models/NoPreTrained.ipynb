{
 "cells": [
  {
   "cell_type": "code",
   "execution_count": 1,
   "metadata": {},
   "outputs": [],
   "source": [
    "# grader-required-cell\n",
    "\n",
    "import os\n",
    "import zipfile\n",
    "import random\n",
    "import shutil\n",
    "import tensorflow as tf\n",
    "from tensorflow.keras.preprocessing.image import ImageDataGenerator\n",
    "from shutil import copyfile\n",
    "import matplotlib.pyplot as plt"
   ]
  },
  {
   "cell_type": "markdown",
   "metadata": {},
   "source": [
    "#### Import your dataset\n",
    "\n",
    "Disini coba ganti setiap path sesuai path yang benernya di local kalian / di drive gimana"
   ]
  },
  {
   "cell_type": "code",
   "execution_count": 3,
   "metadata": {},
   "outputs": [],
   "source": [
    "import os\n",
    "import zipfile\n",
    "import matplotlib.pyplot as plt\n",
    "import tensorflow as tf\n",
    "\n",
    "#Change every path to your dataset train, and test path\n",
    "\n",
    "source_path_train = '/Users/arsyaninsa/Documents/Data_Personal/Kuliah/Bangkid/Nyobas Modelling/dataset_many/train'\n",
    "source_path_test = '/Users/arsyaninsa/Documents/Data_Personal/Kuliah/Bangkid/Nyobas Modelling/dataset_many/test'\n"
   ]
  },
  {
   "cell_type": "markdown",
   "metadata": {},
   "source": [
    "### Prepare Pre-trained model\n",
    "Download the inception model for pre-trained"
   ]
  },
  {
   "cell_type": "markdown",
   "metadata": {},
   "source": [
    "### Generate data\n",
    "Using ImageGenerator from Keras.\n",
    "This function include augmentation to optimize training data image"
   ]
  },
  {
   "cell_type": "code",
   "execution_count": 4,
   "metadata": {},
   "outputs": [],
   "source": [
    "import os\n",
    "import numpy as np\n",
    "from keras.preprocessing.image import ImageDataGenerator\n",
    "from PIL import Image, UnidentifiedImageError\n",
    "\n",
    "def train_val_generators(train_folder, test_folder):\n",
    "    \"\"\"\n",
    "    TRAIN VAL GENERATORS\n",
    "    \"\"\"\n",
    "    # Set the image\n",
    "    img_size = (150, 150)\n",
    "\n",
    "    # Instantiate the ImageDataGenerator class\n",
    "    # augmenting the images\n",
    "    train_datagen = ImageDataGenerator(\n",
    "        rescale=1./255.,\n",
    "        rotation_range=40,\n",
    "        width_shift_range=0.2,\n",
    "        height_shift_range=0.2,\n",
    "        shear_range=0.2,\n",
    "        zoom_range=0.2,\n",
    "        horizontal_flip=True,\n",
    "        fill_mode='nearest'\n",
    "    )\n",
    "\n",
    "    validation_datagen = ImageDataGenerator(rescale=1./255.)\n",
    "\n",
    "    # Load training images and labels\n",
    "    train_generator = train_datagen.flow_from_directory(\n",
    "        train_folder,\n",
    "        target_size=img_size,\n",
    "        batch_size=32,\n",
    "        class_mode='categorical'\n",
    "    )\n",
    "\n",
    "    # Load testing images and labels\n",
    "    validation_generator = validation_datagen.flow_from_directory(\n",
    "        test_folder,\n",
    "        target_size=img_size,\n",
    "        batch_size=32,\n",
    "        class_mode='categorical'\n",
    "    )\n",
    "\n",
    "    #INI BUAT NGECEK IMAGE YANG GABISA DIBUKA\n",
    "    # NAnti dia akan ngasi tau nama file image yang ga sesuai format or corrupt data\n",
    "    for file_path in train_generator.filepaths + validation_generator.filepaths:\n",
    "        try:\n",
    "            img = Image.open(file_path)\n",
    "        except (OSError, Image.UnidentifiedImageError):\n",
    "            print(f\"UnidentifiedImageError: cannot identify image file: {file_path}\")\n",
    "\n",
    "    return train_generator, validation_generator"
   ]
  },
  {
   "cell_type": "code",
   "execution_count": 5,
   "metadata": {},
   "outputs": [
    {
     "name": "stdout",
     "output_type": "stream",
     "text": [
      "Found 4291 images belonging to 17 classes.\n",
      "Found 1019 images belonging to 17 classes.\n"
     ]
    }
   ],
   "source": [
    "train_generator, validation_generator = train_val_generators(source_path_train, source_path_test)"
   ]
  },
  {
   "cell_type": "code",
   "execution_count": 6,
   "metadata": {},
   "outputs": [
    {
     "name": "stdout",
     "output_type": "stream",
     "text": [
      "Images of training generator have shape: (32, 150, 150, 3)\n",
      "Labels of training generator have shape: (32, 17)\n",
      "Images of validation generator have shape: (32, 150, 150, 3)\n",
      "Labels of validation generator have shape: (32, 17)\n"
     ]
    }
   ],
   "source": [
    "# Get a batch of data from the generators\n",
    "train_images, train_labels = next(train_generator)\n",
    "validation_images, validation_labels = next(validation_generator)\n",
    "\n",
    "print(f\"Images of training generator have shape: {train_images.shape}\")\n",
    "print(f\"Labels of training generator have shape: {train_labels.shape}\")\n",
    "print(f\"Images of validation generator have shape: {validation_images.shape}\")\n",
    "print(f\"Labels of validation generator have shape: {validation_labels.shape}\")"
   ]
  },
  {
   "cell_type": "code",
   "execution_count": 7,
   "metadata": {},
   "outputs": [
    {
     "name": "stdout",
     "output_type": "stream",
     "text": [
      "Total number of labels in the validation set: 1019\n"
     ]
    }
   ],
   "source": [
    "num_validation_samples = len(validation_generator.labels)\n",
    "print(f\"Total number of labels in the validation set: {num_validation_samples}\")"
   ]
  },
  {
   "cell_type": "markdown",
   "metadata": {},
   "source": [
    "###### FINAL MODEL\n",
    "\n",
    "Cek classnya ada berapa"
   ]
  },
  {
   "cell_type": "code",
   "execution_count": 8,
   "metadata": {},
   "outputs": [],
   "source": [
    "def create_model():\n",
    "  # DEFINE A KERAS MODEL TO CLASSIFY CATS V DOGS\n",
    "  # USE AT LEAST 3 CONVOLUTION LAYERS\n",
    "\n",
    "  ### START CODE HERE\n",
    "\n",
    "  model = tf.keras.models.Sequential([ \n",
    "      tf.keras.layers.Conv2D(16, (3,3), activation='relu', input_shape=(150, 150, 3)),\n",
    "      tf.keras.layers.MaxPooling2D(2,2),\n",
    "      tf.keras.layers.Conv2D(32, (3,3), activation='relu'),\n",
    "      tf.keras.layers.MaxPooling2D(2,2), \n",
    "      tf.keras.layers.Conv2D(64, (3,3), activation='relu'), \n",
    "      tf.keras.layers.MaxPooling2D(2,2),\n",
    "      # Flatten the results to feed into a DNN\n",
    "      tf.keras.layers.Flatten(), \n",
    "      # 512 neuron hidden layer\n",
    "      tf.keras.layers.Dense(512, activation='relu'), \n",
    "      # Only 1 output neuron. It will contain a value from 0-1 where 0 for 1 class ('cats') and 1 for the other ('dogs')\n",
    "      tf.keras.layers.Dense(17, activation='softmax')\n",
    "  ])\n",
    "\n",
    "\n",
    "  model.compile(optimizer = tf.optimizers.Adam(),\n",
    "                loss = 'categorical_crossentropy',\n",
    "                metrics=['accuracy'])\n",
    "    \n",
    "  ### END CODE HERE\n",
    "\n",
    "  return model"
   ]
  },
  {
   "cell_type": "code",
   "execution_count": 9,
   "metadata": {},
   "outputs": [
    {
     "name": "stdout",
     "output_type": "stream",
     "text": [
      "There are 9,502,769 total parameters in this model.\n",
      "There are 9,502,769 trainable parameters in this model.\n"
     ]
    }
   ],
   "source": [
    "\n",
    "# Save your model in a variable\n",
    "model = create_model()\n",
    "\n",
    "# Inspect parameters\n",
    "total_params = model.count_params()\n",
    "num_trainable_params = sum([w.shape.num_elements() for w in model.trainable_weights])\n",
    "\n",
    "print(f\"There are {total_params:,} total parameters in this model.\")\n",
    "print(f\"There are {num_trainable_params:,} trainable parameters in this model.\")"
   ]
  },
  {
   "cell_type": "code",
   "execution_count": 10,
   "metadata": {},
   "outputs": [],
   "source": [
    "#call backs\n",
    "\n",
    "# Define a Callback class that stops training once accuracy reaches 99.9%\n",
    "class myCallback(tf.keras.callbacks.Callback):\n",
    "  def on_epoch_end(self, epoch, logs={}):\n",
    "    if(logs.get('accuracy')>0.999):\n",
    "      print(\"\\nReached 99.9% accuracy so cancelling training!\")\n",
    "      self.model.stop_training = True"
   ]
  },
  {
   "cell_type": "code",
   "execution_count": 11,
   "metadata": {},
   "outputs": [
    {
     "name": "stdout",
     "output_type": "stream",
     "text": [
      "Epoch 1/15\n"
     ]
    },
    {
     "name": "stderr",
     "output_type": "stream",
     "text": [
      "2023-06-06 18:19:24.457967: W tensorflow/core/platform/profile_utils/cpu_utils.cc:128] Failed to get CPU frequency: 0 Hz\n"
     ]
    },
    {
     "name": "stdout",
     "output_type": "stream",
     "text": [
      "100/135 [=====================>........] - ETA: 10s - loss: 2.1141 - accuracy: 0.3567"
     ]
    },
    {
     "name": "stderr",
     "output_type": "stream",
     "text": [
      "/Users/arsyaninsa/anaconda3/lib/python3.10/site-packages/PIL/Image.py:996: UserWarning: Palette images with Transparency expressed in bytes should be converted to RGBA images\n",
      "  warnings.warn(\n"
     ]
    },
    {
     "name": "stdout",
     "output_type": "stream",
     "text": [
      "135/135 [==============================] - 49s 362ms/step - loss: 1.9597 - accuracy: 0.4032 - val_loss: 1.6720 - val_accuracy: 0.4858\n",
      "Epoch 2/15\n",
      "135/135 [==============================] - 48s 355ms/step - loss: 1.3242 - accuracy: 0.5798 - val_loss: 1.5890 - val_accuracy: 0.4946\n",
      "Epoch 3/15\n",
      "135/135 [==============================] - 48s 356ms/step - loss: 1.1642 - accuracy: 0.6304 - val_loss: 1.3831 - val_accuracy: 0.5564\n",
      "Epoch 4/15\n",
      "135/135 [==============================] - 48s 356ms/step - loss: 1.1039 - accuracy: 0.6479 - val_loss: 1.4040 - val_accuracy: 0.5496\n",
      "Epoch 5/15\n",
      "135/135 [==============================] - 48s 355ms/step - loss: 1.0100 - accuracy: 0.6754 - val_loss: 1.2466 - val_accuracy: 0.6035\n",
      "Epoch 6/15\n",
      "135/135 [==============================] - 48s 357ms/step - loss: 0.9885 - accuracy: 0.6833 - val_loss: 1.1758 - val_accuracy: 0.6477\n",
      "Epoch 7/15\n",
      "135/135 [==============================] - 49s 361ms/step - loss: 0.9016 - accuracy: 0.7019 - val_loss: 1.3658 - val_accuracy: 0.5947\n",
      "Epoch 8/15\n",
      "135/135 [==============================] - 48s 356ms/step - loss: 0.8463 - accuracy: 0.7294 - val_loss: 1.1091 - val_accuracy: 0.6526\n",
      "Epoch 9/15\n",
      "135/135 [==============================] - 48s 355ms/step - loss: 0.8114 - accuracy: 0.7355 - val_loss: 1.1341 - val_accuracy: 0.6418\n",
      "Epoch 10/15\n",
      "135/135 [==============================] - 48s 356ms/step - loss: 0.8072 - accuracy: 0.7262 - val_loss: 1.3710 - val_accuracy: 0.6045\n",
      "Epoch 11/15\n",
      "135/135 [==============================] - 48s 356ms/step - loss: 0.7631 - accuracy: 0.7481 - val_loss: 1.0785 - val_accuracy: 0.6575\n",
      "Epoch 12/15\n",
      "135/135 [==============================] - 48s 355ms/step - loss: 0.7490 - accuracy: 0.7581 - val_loss: 1.1672 - val_accuracy: 0.6232\n",
      "Epoch 13/15\n",
      "135/135 [==============================] - 48s 355ms/step - loss: 0.7233 - accuracy: 0.7562 - val_loss: 0.9860 - val_accuracy: 0.6830\n",
      "Epoch 14/15\n",
      "135/135 [==============================] - 48s 355ms/step - loss: 0.6734 - accuracy: 0.7735 - val_loss: 1.0110 - val_accuracy: 0.6771\n",
      "Epoch 15/15\n",
      "135/135 [==============================] - 48s 358ms/step - loss: 0.6966 - accuracy: 0.7735 - val_loss: 1.1134 - val_accuracy: 0.6634\n"
     ]
    }
   ],
   "source": [
    "# TRAINING FIT\n",
    "# epoch adjust sesuai kebutuhan\n",
    "callbacks = myCallback()\n",
    "history = model.fit(train_generator,\n",
    "                    epochs=15,\n",
    "                    verbose=1,\n",
    "                    validation_data=validation_generator)"
   ]
  },
  {
   "cell_type": "code",
   "execution_count": 12,
   "metadata": {},
   "outputs": [
    {
     "data": {
      "text/plain": [
       "<matplotlib.legend.Legend at 0x1558220b0>"
      ]
     },
     "execution_count": 12,
     "metadata": {},
     "output_type": "execute_result"
    },
    {
     "data": {
      "image/png": "[encoded data removed]",
      "text/plain": [
       "<Figure size 640x480 with 1 Axes>"
      ]
     },
     "metadata": {},
     "output_type": "display_data"
    },
    {
     "data": {
      "image/png": "[encoded data removed]",
      "text/plain": [
       "<Figure size 640x480 with 1 Axes>"
      ]
     },
     "metadata": {},
     "output_type": "display_data"
    }
   ],
   "source": [
    "# Plot the chart for accuracy and loss on both training and validation\n",
    "acc = history.history['accuracy']\n",
    "val_acc = history.history['val_accuracy']\n",
    "loss = history.history['loss']\n",
    "val_loss = history.history['val_loss']\n",
    "\n",
    "epochs = range(len(acc))\n",
    "\n",
    "plt.plot(epochs, acc, 'r', label='Training accuracy')\n",
    "plt.plot(epochs, val_acc, 'b', label='Validation accuracy')\n",
    "plt.title('Training and validation accuracy')\n",
    "plt.legend()\n",
    "plt.figure()\n",
    "\n",
    "plt.plot(epochs, loss, 'r', label='Training Loss')\n",
    "plt.plot(epochs, val_loss, 'b', label='Validation Loss')\n",
    "plt.title('Training and validation loss')\n",
    "plt.legend()\n"
   ]
  },
  {
   "cell_type": "code",
   "execution_count": 13,
   "metadata": {},
   "outputs": [
    {
     "name": "stdout",
     "output_type": "stream",
     "text": [
      "Class Labels:\n",
      "Index: Aglaonema, Label: 0\n",
      "Index: Aloe Vera, Label: 1\n",
      "Index: Apple, Label: 2\n",
      "Index: Caladium, Label: 3\n",
      "Index: Calathea, Label: 4\n",
      "Index: Cassava, Label: 5\n",
      "Index: Grape, Label: 6\n",
      "Index: Jasmine, Label: 7\n",
      "Index: Lavender, Label: 8\n",
      "Index: Lili Paris, Label: 9\n",
      "Index: Lily, Label: 10\n",
      "Index: Monstera Andansonii, Label: 11\n",
      "Index: Rose, Label: 12\n",
      "Index: Sansevieria, Label: 13\n",
      "Index: Soybean, Label: 14\n",
      "Index: Tomato, Label: 15\n",
      "Index: sunflower, Label: 16\n"
     ]
    }
   ],
   "source": [
    "# Get the class labels and their corresponding indices\n",
    "class_labels = train_generator.class_indices\n",
    "\n",
    "# Reverse the dictionary to get the label-to-index mapping\n",
    "label_to_index = {v: k for k, v in class_labels.items()}\n",
    "\n",
    "class_names = []\n",
    "\n",
    "# Print the labels\n",
    "print(\"Class Labels:\")\n",
    "for label, index in label_to_index.items():\n",
    "    print(f\"Index: {index}, Label: {label}\")\n",
    "    class_names.append(index)"
   ]
  },
  {
   "cell_type": "code",
   "execution_count": 14,
   "metadata": {},
   "outputs": [
    {
     "name": "stdout",
     "output_type": "stream",
     "text": [
      "1/1 [==============================] - 0s 141ms/step\n",
      "Predicted class: Apple\n"
     ]
    }
   ],
   "source": [
    "\n",
    "# Load the image you want to predict\n",
    "image_path = \"/Users/arsyaninsa/Documents/Data_Personal/Kuliah/Bangkid/Nyobas Modelling/dataset/train/Apple leaf/Apple leaf (19).jpg\"\n",
    "image = Image.open(image_path)\n",
    "image = image.resize((150, 150))  # Resize the image to match the input size of the model\n",
    "\n",
    "# Preprocess the image\n",
    "image_array = np.array(image) / 255.0\n",
    "image_array = np.expand_dims(image_array, axis=0)  # Add a batch dimension\n",
    "\n",
    "# Make the prediction\n",
    "prediction = model.predict(image_array)\n",
    "predicted_class_index = np.argmax(prediction)\n",
    "predicted_class = class_names[predicted_class_index]\n",
    "\n",
    "# Print the predicted class\n",
    "print(\"Predicted class:\", predicted_class)"
   ]
  }
 ],
 "metadata": {
  "kernelspec": {
   "display_name": "Python 3.10.9 ('base')",
   "language": "python",
   "name": "python3"
  },
  "language_info": {
   "codemirror_mode": {
    "name": "ipython",
    "version": 3
   },
   "file_extension": ".py",
   "mimetype": "text/x-python",
   "name": "python",
   "nbconvert_exporter": "python",
   "pygments_lexer": "ipython3",
   "version": "3.10.9"
  },
  "orig_nbformat": 4,
  "vscode": {
   "interpreter": {
    "hash": "9cec84ffa221935764b8353b6f99a3968002a54622119edefef7e1fa53d9c21b"
   }
  }
 },
 "nbformat": 4,
 "nbformat_minor": 2
}
